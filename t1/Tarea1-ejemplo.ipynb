{
 "cells": [
  {
   "cell_type": "code",
   "execution_count": null,
   "id": "6a827b58-1e07-4190-85f8-c2dbaff1ab31",
   "metadata": {},
   "outputs": [],
   "source": [
    "import numpy as np\n",
    "import pandas as pd\n",
    "import geopandas as gpd\n",
    "import geodatasets\n",
    "import matplotlib.pyplot as plt"
   ]
  },
  {
   "cell_type": "markdown",
   "id": "85ea6ed5-3594-4296-9933-afe40ae0c517",
   "metadata": {},
   "source": [
    "## Visualize the datasets\n",
    "\n",
    "Plot the dust deposition rate of the empirical dataset in the measurement locations and the simulated data on the global grid."
   ]
  },
  {
   "cell_type": "code",
   "execution_count": null,
   "id": "45f8493f-6779-4262-8ba2-5ef9d298a10f",
   "metadata": {},
   "outputs": [],
   "source": [
    "df_empirical_Holocene = pd.read_csv(\"df_empirical_Holocene.csv\")\n",
    "df_empirical_LGM = pd.read_csv(\"df_empirical_LGM.csv\")"
   ]
  },
  {
   "cell_type": "code",
   "execution_count": null,
   "id": "caeb8bb6-2434-4526-ba47-d8a47585b2f9",
   "metadata": {},
   "outputs": [],
   "source": [
    "world_map = gpd.read_file(geodatasets.get_path('naturalearth.land'))"
   ]
  },
  {
   "cell_type": "code",
   "execution_count": null,
   "id": "79a71651-ac01-4257-a8e7-e2a7e8829271",
   "metadata": {},
   "outputs": [],
   "source": [
    "def plot_dust_deposition_map(df, title, name_to_save, label_str='log_dep', measure_units='Dust flux log$_{10}$[g m$^{-2}$ a$^{-1}$]', limit_bar = 3.2):\n",
    "    \"\"\"Generate a map plot of dust deposition based on the provided dataframe.\n",
    "\n",
    "    Parameters:\n",
    "    - df (pandas DataFrame): The dataframe containing the dust deposition data.\n",
    "    - title(str): The title to be displayed on the plot.\n",
    "    - name_to_save (str): The filename to save the generated map plot.\n",
    "    - label_str (str, optional): The column name in the dataframe to use for labeling the data on the plot. Defaults to 'log_dep'.\n",
    "    - measure_units (str, optional): The units of measurement for the dust flux. Defaults to 'Dust flux log$_{10}$[g m$^{-2}$ a$^{-1}$]'.\n",
    "    - limit_bar (float, optional): The limit value for the colorbar on the plot. Defaults to 3.2.\"\"\"\n",
    "\n",
    "    df_dust_geopandas = gpd.GeoDataFrame(df, geometry=gpd.points_from_xy(df.lon, df.lat))\n",
    "\n",
    "    fig, ax = plt.subplots(figsize=(12, 10))\n",
    "\n",
    "    # Set limits and ticks\n",
    "    ax.set_xlim(-180, 180)\n",
    "    ax.set_ylim(-90, 90)\n",
    "    ax.set_xticks(np.arange(-180, 181, 45))\n",
    "    ax.set_yticks(np.arange(-90, 91, 30))\n",
    "\n",
    "    # Plot world map\n",
    "    world_map.boundary.plot(ax=ax, color='black', linewidth=0.8)\n",
    "\n",
    "    # Plot the GeoDataFrame\n",
    "    df_dust_geopandas.plot(column=label_str,\n",
    "                           ax=ax,\n",
    "                           legend=True,\n",
    "                           legend_kwds={'label': measure_units, 'orientation': \"horizontal\"},\n",
    "                           cmap='viridis',\n",
    "                           vmin=-limit_bar,\n",
    "                           vmax=limit_bar,\n",
    "                           linewidth=0.005,\n",
    "                           markersize=100)\n",
    "\n",
    "    # Set labels and title\n",
    "    ax.set(xlabel='Longitude', ylabel='Latitude', title=title)\n",
    "\n",
    "    # Save and show the plot\n",
    "    plt.savefig(f\"{name_to_save}.pdf\", bbox_inches='tight', dpi=600)\n",
    "    plt.show()\n",
    "\n",
    "    return\n"
   ]
  },
  {
   "cell_type": "code",
   "execution_count": null,
   "id": "b02f6b9f-1a4c-43e8-b66f-a56de93a510e",
   "metadata": {},
   "outputs": [],
   "source": [
    "plot_dust_deposition_map(df=df_empirical_Holocene,\n",
    "                         title='Holocene',\n",
    "                         name_to_save='DATA_MAP_HOLOCENE')\n",
    "\n",
    "plot_dust_deposition_map(df=df_empirical_LGM,\n",
    "                         title='Last Glacial Maximum',\n",
    "                         name_to_save='DATA_MAP_LGM')"
   ]
  },
  {
   "cell_type": "markdown",
   "id": "d36ec7e2-bc98-4573-bbf1-965122d115d4",
   "metadata": {},
   "source": [
    "## Create and visualize the global grid\n",
    "\n",
    "The global grid for the predictions consists of 3-degree spacing."
   ]
  },
  {
   "cell_type": "code",
   "execution_count": null,
   "id": "2be41465-d008-4f97-8c35-cd5e5ab4a7df",
   "metadata": {},
   "outputs": [],
   "source": [
    "longitude_to_predict = np.linspace(-180, 180, 121)\n",
    "latitude_to_predict = np.linspace(-90, 90, 61)\n",
    "\n",
    "xx, yy = np.meshgrid(longitude_to_predict, latitude_to_predict)\n",
    "XYpairs = np.vstack([ xx.reshape(-1), yy.reshape(-1) ])\n",
    "df_gpd_global_grid = gpd.GeoDataFrame(geometry=gpd.points_from_xy(XYpairs[0], XYpairs[1]))\n",
    "df_global_grid = pd.DataFrame({\n",
    "    'lon': df_gpd_global_grid.geometry.x,\n",
    "    'lat': df_gpd_global_grid.geometry.y\n",
    "})"
   ]
  },
  {
   "cell_type": "code",
   "execution_count": null,
   "id": "6672f2bd-94fa-431e-ac46-dcdcd7f0015a",
   "metadata": {},
   "outputs": [],
   "source": [
    "fig, ax = plt.subplots(figsize=(12,10))\n",
    "world_map.boundary.plot(ax=ax, color='black', linewidth=0.8)\n",
    "df_gpd_global_grid.plot(ax=ax, color='red', markersize=10, marker ='o')\n",
    "\n",
    "ax.set(xlabel='Longitude', ylabel='Latitude',\n",
    "       title=f'Global grid with {df_gpd_global_grid.shape[0]} points')\n",
    "plt.show()"
   ]
  },
  {
   "cell_type": "markdown",
   "id": "09cab93d-3e64-498d-b7fc-28f110ac6b71",
   "metadata": {},
   "source": [
    "## Analyse global deposition rate with nearest neighbours\n",
    "\n",
    "The dust deposition rate will be estimated by averaging the values of the $k$ nearest neigbours."
   ]
  },
  {
   "cell_type": "code",
   "execution_count": null,
   "id": "245a1dbb-b83b-47c1-9ff4-9092948667bb",
   "metadata": {},
   "outputs": [],
   "source": [
    "def distance_euclidean(x, y):\n",
    "    \"\"\"\n",
    "    Calculate the Euclidean distance between two points.\n",
    "\n",
    "    Parameters:\n",
    "    x,y : Iterable\n",
    "        Vectors for the 2D location of the two points.\n",
    "    \"\"\"\n",
    "    distance = np.sqrt( (x[0] - y[0])**2 + (x[1] - y[1])**2)\n",
    "    return distance"
   ]
  },
  {
   "cell_type": "code",
   "execution_count": null,
   "id": "e5c3dbb3-4efc-40b6-87a8-252a55c120df",
   "metadata": {},
   "outputs": [],
   "source": [
    "def distance_geodesic(x, y):\n",
    "    \"\"\"\n",
    "    Calculate the geodesic distance between two points on Earth.\n",
    "\n",
    "    Parameters:\n",
    "    x,y : Iterable\n",
    "        Vectors for the 2D location of the two points.\n",
    "    \"\"\"\n",
    "    return"
   ]
  },
  {
   "cell_type": "code",
   "execution_count": null,
   "id": "4418f6c4-e351-4b62-bc53-add756389f75",
   "metadata": {},
   "outputs": [],
   "source": [
    "def nearest_neighbour_estimation(df, x, k, dist):\n",
    "    \"\"\"\n",
    "    Perform a k nearest neighbour estimation.\n",
    "\n",
    "    Parameters:\n",
    "    df : pandas.DataFrame\n",
    "        The database.\n",
    "    x : Iterable\n",
    "        Location for the estimation.\n",
    "    k : int\n",
    "        The number of neighbours to consider.\n",
    "    dist : str\n",
    "        The type of distance definition.\n",
    "    \"\"\"\n",
    "    \n",
    "    if dist == \"geodesic\":\n",
    "        distance_fun = distance_geodesic\n",
    "    else:\n",
    "        distance_fun = distance_euclidean\n",
    "    \n",
    "    distances = np.repeat(np.inf, len(df))\n",
    "    for index, row in df.iterrows():\n",
    "        distances[index] = distance_fun(x, (row[\"lon\"], row[\"lat\"]))\n",
    "    \n",
    "    sorted_indices = np.argsort(distances)\n",
    "    nearest_points = sorted_indices[:k]\n",
    "    \n",
    "    values_neighbours = df.loc[nearest_points, \"log_dep\"]\n",
    "    estimation = np.average(values_neighbours)\n",
    "    \n",
    "    return estimation"
   ]
  },
  {
   "cell_type": "code",
   "execution_count": null,
   "id": "317a9f17-58c5-4a98-a6f9-d2424c75f613",
   "metadata": {},
   "outputs": [],
   "source": [
    "# Choose the number of neighbours to include in the estimation\n",
    "n_neighbours = 5"
   ]
  },
  {
   "cell_type": "code",
   "execution_count": null,
   "id": "036db153-b70d-4483-8783-9ca0c2f96d41",
   "metadata": {
    "scrolled": true
   },
   "outputs": [],
   "source": [
    "estimations_holocene = np.repeat(np.inf, len(df_global_grid))\n",
    "estimations_lgm = np.repeat(np.inf, len(df_global_grid))\n",
    "\n",
    "for index, row in df_global_grid.iterrows():\n",
    "    point_for_estimation = (row[\"lon\"], row[\"lat\"])\n",
    "    estimations_holocene[index] = nearest_neighbour_estimation(df_empirical_Holocene, point_for_estimation, n_neighbours, dist='euclidean')\n",
    "    estimations_lgm[index] = nearest_neighbour_estimation(df_empirical_LGM, point_for_estimation, n_neighbours, dist='euclidean')\n",
    "\n",
    "df_global_grid[\"est_hol\"] = estimations_holocene\n",
    "df_global_grid[\"est_lgm\"] = estimations_lgm"
   ]
  },
  {
   "cell_type": "code",
   "execution_count": null,
   "id": "a8108d86-e0ff-44ab-8d55-ea5edfb3d2e2",
   "metadata": {},
   "outputs": [],
   "source": [
    "plot_dust_deposition_map(df=df_global_grid,\n",
    "                         title='Holocene',\n",
    "                         name_to_save='ESTIMATION_MAP_HOLOCENE',\n",
    "                         label_str='est_hol')\n",
    "\n",
    "plot_dust_deposition_map(df=df_global_grid,\n",
    "                         title='Last Glacial Maximum',\n",
    "                         name_to_save='ESTIMATION_MAP_LGM',\n",
    "                         label_str='est_lgm')"
   ]
  },
  {
   "cell_type": "code",
   "execution_count": null,
   "id": "22c6c054-5e89-4c72-859d-7a0122445889",
   "metadata": {},
   "outputs": [],
   "source": []
  }
 ],
 "metadata": {
  "kernelspec": {
   "display_name": "Python 3 (ipykernel)",
   "language": "python",
   "name": "python3"
  },
  "language_info": {
   "codemirror_mode": {
    "name": "ipython",
    "version": 3
   },
   "file_extension": ".py",
   "mimetype": "text/x-python",
   "name": "python",
   "nbconvert_exporter": "python",
   "pygments_lexer": "ipython3",
   "version": "3.12.2"
  }
 },
 "nbformat": 4,
 "nbformat_minor": 5
}
